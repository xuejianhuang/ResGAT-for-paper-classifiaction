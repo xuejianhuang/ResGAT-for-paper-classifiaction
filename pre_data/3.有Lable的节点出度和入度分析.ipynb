{
 "cells": [
  {
   "cell_type": "code",
   "execution_count": 1,
   "metadata": {},
   "outputs": [],
   "source": [
    "import pandas as pd\n",
    "import numpy as np\n",
    "import os\n",
    "import gc"
   ]
  },
  {
   "cell_type": "code",
   "execution_count": 2,
   "metadata": {},
   "outputs": [],
   "source": [
    "# path\n",
    "base_path = '../'\n",
    "publish_path = 'data'\n",
    "\n",
    "link_p1_path = os.path.join(base_path, publish_path, 'link_phase1_pre.csv')\n",
    "nodes_path = os.path.join(base_path, publish_path, 'nodes_pre.csv')"
   ]
  },
  {
   "cell_type": "code",
   "execution_count": 3,
   "metadata": {},
   "outputs": [
    {
     "name": "stderr",
     "output_type": "stream",
     "text": [
      "/home/fmode/nova-chia/chia-blockchain/venv/lib/python3.8/site-packages/IPython/core/interactiveshell.py:3169: DtypeWarning: Columns (2) have mixed types.Specify dtype option on import or set low_memory=False.\n",
      "  has_raised = await self.run_ast_nodes(code_ast.body, cell_name,\n"
     ]
    }
   ],
   "source": [
    "edge_df = pd.read_csv(link_p1_path)\n",
    "nodes_df=pd.read_csv(nodes_path)"
   ]
  },
  {
   "cell_type": "code",
   "execution_count": 4,
   "metadata": {},
   "outputs": [],
   "source": [
    "nodes_df_label=nodes_df[nodes_df['Label'].notnull()]"
   ]
  },
  {
   "cell_type": "code",
   "execution_count": 5,
   "metadata": {},
   "outputs": [
    {
     "data": {
      "text/plain": [
       "(3030932, 3)"
      ]
     },
     "execution_count": 5,
     "metadata": {},
     "output_type": "execute_result"
    }
   ],
   "source": [
    "nodes_df.shape"
   ]
  },
  {
   "cell_type": "code",
   "execution_count": 6,
   "metadata": {},
   "outputs": [
    {
     "data": {
      "text/plain": [
       "(935353, 3)"
      ]
     },
     "execution_count": 6,
     "metadata": {},
     "output_type": "execute_result"
    }
   ],
   "source": [
    "nodes_df_label.shape"
   ]
  },
  {
   "cell_type": "code",
   "execution_count": 7,
   "metadata": {},
   "outputs": [
    {
     "data": {
      "text/html": [
       "<div>\n",
       "<style scoped>\n",
       "    .dataframe tbody tr th:only-of-type {\n",
       "        vertical-align: middle;\n",
       "    }\n",
       "\n",
       "    .dataframe tbody tr th {\n",
       "        vertical-align: top;\n",
       "    }\n",
       "\n",
       "    .dataframe thead th {\n",
       "        text-align: right;\n",
       "    }\n",
       "</style>\n",
       "<table border=\"1\" class=\"dataframe\">\n",
       "  <thead>\n",
       "    <tr style=\"text-align: right;\">\n",
       "      <th></th>\n",
       "      <th>ID</th>\n",
       "      <th>Feature</th>\n",
       "      <th>Label</th>\n",
       "    </tr>\n",
       "  </thead>\n",
       "  <tbody>\n",
       "    <tr>\n",
       "      <th>1</th>\n",
       "      <td>a971601a0286d2701aa5cde46e63a9fd</td>\n",
       "      <td>['0.36366312', '0.2541525', '0.19173175', '-0....</td>\n",
       "      <td>G</td>\n",
       "    </tr>\n",
       "    <tr>\n",
       "      <th>2</th>\n",
       "      <td>a48c92cc8f67a8327adac7ff62d24a53</td>\n",
       "      <td>['4.04856000e-01', '-2.78621620e-01', '1.01597...</td>\n",
       "      <td>W</td>\n",
       "    </tr>\n",
       "    <tr>\n",
       "      <th>3</th>\n",
       "      <td>4736ef4d2512bb23954118adcb605b5e</td>\n",
       "      <td>['0.07018458', '-0.31889583', '0.15779175', '-...</td>\n",
       "      <td>H</td>\n",
       "    </tr>\n",
       "    <tr>\n",
       "      <th>12</th>\n",
       "      <td>13e13027743021fa216affbbac6c7859</td>\n",
       "      <td>['2.42734500e-01', '-3.85882375e-01', '-1.9131...</td>\n",
       "      <td>E</td>\n",
       "    </tr>\n",
       "    <tr>\n",
       "      <th>13</th>\n",
       "      <td>e728c1383af8c023e14abb97c4288d5a</td>\n",
       "      <td>['5.71426923e-02', '-2.46496923e-02', '9.82207...</td>\n",
       "      <td>G</td>\n",
       "    </tr>\n",
       "  </tbody>\n",
       "</table>\n",
       "</div>"
      ],
      "text/plain": [
       "                                  ID  \\\n",
       "1   a971601a0286d2701aa5cde46e63a9fd   \n",
       "2   a48c92cc8f67a8327adac7ff62d24a53   \n",
       "3   4736ef4d2512bb23954118adcb605b5e   \n",
       "12  13e13027743021fa216affbbac6c7859   \n",
       "13  e728c1383af8c023e14abb97c4288d5a   \n",
       "\n",
       "                                              Feature Label  \n",
       "1   ['0.36366312', '0.2541525', '0.19173175', '-0....     G  \n",
       "2   ['4.04856000e-01', '-2.78621620e-01', '1.01597...     W  \n",
       "3   ['0.07018458', '-0.31889583', '0.15779175', '-...     H  \n",
       "12  ['2.42734500e-01', '-3.85882375e-01', '-1.9131...     E  \n",
       "13  ['5.71426923e-02', '-2.46496923e-02', '9.82207...     G  "
      ]
     },
     "execution_count": 7,
     "metadata": {},
     "output_type": "execute_result"
    }
   ],
   "source": [
    "nodes_df_label.head()"
   ]
  },
  {
   "cell_type": "code",
   "execution_count": 8,
   "metadata": {},
   "outputs": [
    {
     "data": {
      "text/plain": [
       "(742384, 3)"
      ]
     },
     "execution_count": 8,
     "metadata": {},
     "output_type": "execute_result"
    }
   ],
   "source": [
    "###有入度的标签点\n",
    "nodes_df_label_have_in=nodes_df_label[nodes_df_label['ID'].isin(edge_df['reference_paper_id'])] \n",
    "nodes_df_label_have_in.shape"
   ]
  },
  {
   "cell_type": "markdown",
   "metadata": {},
   "source": [
    "### 935353个有标签的数据集中有742384个节点有入度"
   ]
  },
  {
   "cell_type": "code",
   "execution_count": 10,
   "metadata": {},
   "outputs": [
    {
     "data": {
      "text/plain": [
       "(854446, 3)"
      ]
     },
     "execution_count": 10,
     "metadata": {},
     "output_type": "execute_result"
    }
   ],
   "source": [
    "###有出度的标签点\n",
    "nodes_df_label_have_out=nodes_df_label[nodes_df_label['ID'].isin(edge_df['paper_id'])] #保留有dest的节点\n",
    "nodes_df_label_have_out.shape"
   ]
  },
  {
   "cell_type": "markdown",
   "metadata": {},
   "source": [
    "### 935353个有标签的数据集有854446个节点有出度"
   ]
  },
  {
   "cell_type": "code",
   "execution_count": 12,
   "metadata": {},
   "outputs": [
    {
     "data": {
      "text/plain": [
       "(661477, 3)"
      ]
     },
     "execution_count": 12,
     "metadata": {},
     "output_type": "execute_result"
    }
   ],
   "source": [
    "###即有入度也有出度的标签点\n",
    "nodes_df_label_have_in_out=nodes_df_label[(nodes_df_label['ID'].isin(edge_df['reference_paper_id'])) & (nodes_df_label['ID'].isin(edge_df['paper_id']))]\n",
    "nodes_df_label_have_in_out.shape"
   ]
  },
  {
   "cell_type": "markdown",
   "metadata": {},
   "source": [
    "### 935353个有标签的数据集有661477的节点既有出度又有入度"
   ]
  }
 ],
 "metadata": {
  "kernelspec": {
   "display_name": "Python 3",
   "language": "python",
   "name": "python3"
  },
  "language_info": {
   "codemirror_mode": {
    "name": "ipython",
    "version": 3
   },
   "file_extension": ".py",
   "mimetype": "text/x-python",
   "name": "python",
   "nbconvert_exporter": "python",
   "pygments_lexer": "ipython3",
   "version": "3.8.10"
  }
 },
 "nbformat": 4,
 "nbformat_minor": 4
}
