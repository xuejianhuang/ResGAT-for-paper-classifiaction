{
 "cells": [
  {
   "cell_type": "code",
   "execution_count": 1,
   "metadata": {},
   "outputs": [],
   "source": [
    "import pandas as pd\n",
    "import numpy as np\n",
    "import os\n",
    "import gc"
   ]
  },
  {
   "cell_type": "code",
   "execution_count": 2,
   "metadata": {},
   "outputs": [],
   "source": [
    "# path\n",
    "base_path = '../'\n",
    "publish_path = 'data'\n",
    "\n",
    "link_p1_path = os.path.join(base_path, publish_path, 'link_phase1_pre.csv')\n",
    "nodes_path = os.path.join(base_path, publish_path, 'nodes_pre.csv')"
   ]
  },
  {
   "cell_type": "markdown",
   "metadata": {},
   "source": [
    "### 读取边列表并统计节点数量"
   ]
  },
  {
   "cell_type": "code",
   "execution_count": 3,
   "metadata": {},
   "outputs": [
    {
     "name": "stdout",
     "output_type": "stream",
     "text": [
      "(29162247, 3)\n"
     ]
    },
    {
     "data": {
      "text/html": [
       "<div>\n",
       "<style scoped>\n",
       "    .dataframe tbody tr th:only-of-type {\n",
       "        vertical-align: middle;\n",
       "    }\n",
       "\n",
       "    .dataframe tbody tr th {\n",
       "        vertical-align: top;\n",
       "    }\n",
       "\n",
       "    .dataframe thead th {\n",
       "        text-align: right;\n",
       "    }\n",
       "</style>\n",
       "<table border=\"1\" class=\"dataframe\">\n",
       "  <thead>\n",
       "    <tr style=\"text-align: right;\">\n",
       "      <th></th>\n",
       "      <th>paper_id</th>\n",
       "      <th>reference_paper_id</th>\n",
       "      <th>phase</th>\n",
       "    </tr>\n",
       "  </thead>\n",
       "  <tbody>\n",
       "    <tr>\n",
       "      <th>0</th>\n",
       "      <td>f10da75ad1eaf16eb2ffe0d85b76b332</td>\n",
       "      <td>711ef25bdb2c2421c0131af77b3ede1d</td>\n",
       "      <td>phase1</td>\n",
       "    </tr>\n",
       "    <tr>\n",
       "      <th>1</th>\n",
       "      <td>9ac5a4327bd4f3dcb424c93ca9b84087</td>\n",
       "      <td>2d91c73304c5e8a94a0e5b4956093f71</td>\n",
       "      <td>phase1</td>\n",
       "    </tr>\n",
       "    <tr>\n",
       "      <th>2</th>\n",
       "      <td>9d91bfd4703e55dd814dfffb3d63fc33</td>\n",
       "      <td>33d4fdfe3967a1ffde9311bfe6827ef9</td>\n",
       "      <td>phase1</td>\n",
       "    </tr>\n",
       "    <tr>\n",
       "      <th>3</th>\n",
       "      <td>e1bdbce05528952ed6579795373782d4</td>\n",
       "      <td>4bda690abec912b3b7b228b01fb6819a</td>\n",
       "      <td>phase1</td>\n",
       "    </tr>\n",
       "    <tr>\n",
       "      <th>4</th>\n",
       "      <td>eb623ac4b10df96835921edabbde2951</td>\n",
       "      <td>c1a05bdfc88a73bf2830e705b2f39dbb</td>\n",
       "      <td>phase1</td>\n",
       "    </tr>\n",
       "  </tbody>\n",
       "</table>\n",
       "</div>"
      ],
      "text/plain": [
       "                           paper_id                reference_paper_id   phase\n",
       "0  f10da75ad1eaf16eb2ffe0d85b76b332  711ef25bdb2c2421c0131af77b3ede1d  phase1\n",
       "1  9ac5a4327bd4f3dcb424c93ca9b84087  2d91c73304c5e8a94a0e5b4956093f71  phase1\n",
       "2  9d91bfd4703e55dd814dfffb3d63fc33  33d4fdfe3967a1ffde9311bfe6827ef9  phase1\n",
       "3  e1bdbce05528952ed6579795373782d4  4bda690abec912b3b7b228b01fb6819a  phase1\n",
       "4  eb623ac4b10df96835921edabbde2951  c1a05bdfc88a73bf2830e705b2f39dbb  phase1"
      ]
     },
     "execution_count": 3,
     "metadata": {},
     "output_type": "execute_result"
    }
   ],
   "source": [
    "edge_df = pd.read_csv(link_p1_path)\n",
    "print(edge_df.shape)\n",
    "edge_df.head()"
   ]
  },
  {
   "cell_type": "code",
   "execution_count": 4,
   "metadata": {},
   "outputs": [
    {
     "data": {
      "text/plain": [
       "count     29162247\n",
       "unique           1\n",
       "top         phase1\n",
       "freq      29162247\n",
       "Name: phase, dtype: object"
      ]
     },
     "execution_count": 4,
     "metadata": {},
     "output_type": "execute_result"
    }
   ],
   "source": [
    "edge_df.phase.describe()"
   ]
  },
  {
   "cell_type": "code",
   "execution_count": 5,
   "metadata": {},
   "outputs": [
    {
     "name": "stdout",
     "output_type": "stream",
     "text": [
      "(3030932, 1)\n"
     ]
    },
    {
     "data": {
      "text/html": [
       "<div>\n",
       "<style scoped>\n",
       "    .dataframe tbody tr th:only-of-type {\n",
       "        vertical-align: middle;\n",
       "    }\n",
       "\n",
       "    .dataframe tbody tr th {\n",
       "        vertical-align: top;\n",
       "    }\n",
       "\n",
       "    .dataframe thead th {\n",
       "        text-align: right;\n",
       "    }\n",
       "</style>\n",
       "<table border=\"1\" class=\"dataframe\">\n",
       "  <thead>\n",
       "    <tr style=\"text-align: right;\">\n",
       "      <th></th>\n",
       "      <th>paper_id</th>\n",
       "    </tr>\n",
       "  </thead>\n",
       "  <tbody>\n",
       "    <tr>\n",
       "      <th>0</th>\n",
       "      <td>f10da75ad1eaf16eb2ffe0d85b76b332</td>\n",
       "    </tr>\n",
       "    <tr>\n",
       "      <th>1</th>\n",
       "      <td>9ac5a4327bd4f3dcb424c93ca9b84087</td>\n",
       "    </tr>\n",
       "    <tr>\n",
       "      <th>2</th>\n",
       "      <td>9d91bfd4703e55dd814dfffb3d63fc33</td>\n",
       "    </tr>\n",
       "    <tr>\n",
       "      <th>3</th>\n",
       "      <td>e1bdbce05528952ed6579795373782d4</td>\n",
       "    </tr>\n",
       "  </tbody>\n",
       "</table>\n",
       "</div>"
      ],
      "text/plain": [
       "                           paper_id\n",
       "0  f10da75ad1eaf16eb2ffe0d85b76b332\n",
       "1  9ac5a4327bd4f3dcb424c93ca9b84087\n",
       "2  9d91bfd4703e55dd814dfffb3d63fc33\n",
       "3  e1bdbce05528952ed6579795373782d4"
      ]
     },
     "execution_count": 5,
     "metadata": {},
     "output_type": "execute_result"
    }
   ],
   "source": [
    "edge_nodes = pd.concat([edge_df['paper_id'], edge_df['reference_paper_id']])\n",
    "edge_nodes = pd.DataFrame(edge_nodes.drop_duplicates())\n",
    "edge_nodes.rename(columns={0:'paper_id'}, inplace=True)\n",
    "\n",
    "print(edge_nodes.shape)\n",
    "edge_nodes.head(4)"
   ]
  },
  {
   "cell_type": "markdown",
   "metadata": {},
   "source": [
    "#### 在边列表，一共出现了3,030932个节点(paper_id)"
   ]
  },
  {
   "cell_type": "code",
   "execution_count": 6,
   "metadata": {},
   "outputs": [],
   "source": [
    "def process_node(line):\n",
    "    nid, feat_json, label = line.strip().split('\\\"')\n",
    "    \n",
    "    feat_list = [float(feat[1:-1]) for feat in feat_json[1:-1].split(', ')]  #去除[] ''\n",
    "    \n",
    "    if len(feat_list) != 300:\n",
    "        print('此行数据有问题 {}'.format(line))\n",
    "    \n",
    "    return nid[:-1], feat_list, label[1:]"
   ]
  },
  {
   "cell_type": "code",
   "execution_count": 7,
   "metadata": {
    "scrolled": true
   },
   "outputs": [
    {
     "name": "stdout",
     "output_type": "stream",
     "text": [
      "Processed 100000 train rows\n",
      "Processed 200000 train rows\n",
      "Processed 300000 train rows\n",
      "Processed 400000 train rows\n",
      "Processed 500000 train rows\n",
      "Processed 600000 train rows\n",
      "Processed 700000 train rows\n",
      "Processed 800000 train rows\n",
      "Processed 900000 train rows\n",
      "Processed 1000000 train rows\n",
      "Processed 1100000 train rows\n",
      "Processed 1200000 train rows\n",
      "Processed 1300000 train rows\n",
      "Processed 1400000 train rows\n",
      "Processed 1500000 train rows\n",
      "Processed 1600000 train rows\n",
      "Processed 1700000 train rows\n",
      "Processed 1800000 train rows\n",
      "Processed 1900000 train rows\n",
      "Processed 2000000 train rows\n",
      "Processed 2100000 train rows\n",
      "Processed 2200000 train rows\n",
      "Processed 2300000 train rows\n",
      "Processed 2400000 train rows\n",
      "Processed 2500000 train rows\n",
      "Processed 2600000 train rows\n",
      "Processed 2700000 train rows\n",
      "Processed 2800000 train rows\n",
      "Processed 2900000 train rows\n",
      "Processed 3000000 train rows\n"
     ]
    }
   ],
   "source": [
    "# 先构建ID和Label的关系，保证ID的顺序和Feature的顺序一致即可\n",
    "nid_list = []\n",
    "label_list = []\n",
    "\n",
    "with open(nodes_path, 'r') as f:\n",
    "    i = 0\n",
    "    \n",
    "    for line in f:\n",
    "        if i > 0:\n",
    "            nid, _, label = process_node(line)\n",
    "            nid_list.append(nid)\n",
    "            label_list.append(label)           #部分标签我空\n",
    "        i += 1\n",
    "        if i % 100000 == 0:\n",
    "            print('Processed {} train rows'.format(i))\n",
    "\n",
    "\n",
    "nid_arr = np.array(nid_list)\n",
    "label_arr = np.array(label_list)\n",
    "    \n",
    "nid_label_df = pd.DataFrame({'paper_id':nid_arr, 'Label': label_arr})"
   ]
  },
  {
   "cell_type": "code",
   "execution_count": 8,
   "metadata": {},
   "outputs": [
    {
     "name": "stdout",
     "output_type": "stream",
     "text": [
      "(3030932, 3)\n"
     ]
    },
    {
     "data": {
      "text/html": [
       "<div>\n",
       "<style scoped>\n",
       "    .dataframe tbody tr th:only-of-type {\n",
       "        vertical-align: middle;\n",
       "    }\n",
       "\n",
       "    .dataframe tbody tr th {\n",
       "        vertical-align: top;\n",
       "    }\n",
       "\n",
       "    .dataframe thead th {\n",
       "        text-align: right;\n",
       "    }\n",
       "</style>\n",
       "<table border=\"1\" class=\"dataframe\">\n",
       "  <thead>\n",
       "    <tr style=\"text-align: right;\">\n",
       "      <th></th>\n",
       "      <th>node_idx</th>\n",
       "      <th>paper_id</th>\n",
       "      <th>Label</th>\n",
       "    </tr>\n",
       "  </thead>\n",
       "  <tbody>\n",
       "    <tr>\n",
       "      <th>0</th>\n",
       "      <td>0</td>\n",
       "      <td>78f43b8b62f040347fec0be44e5f08bd</td>\n",
       "      <td></td>\n",
       "    </tr>\n",
       "    <tr>\n",
       "      <th>1</th>\n",
       "      <td>1</td>\n",
       "      <td>a971601a0286d2701aa5cde46e63a9fd</td>\n",
       "      <td>G</td>\n",
       "    </tr>\n",
       "    <tr>\n",
       "      <th>2</th>\n",
       "      <td>2</td>\n",
       "      <td>a48c92cc8f67a8327adac7ff62d24a53</td>\n",
       "      <td>W</td>\n",
       "    </tr>\n",
       "    <tr>\n",
       "      <th>3</th>\n",
       "      <td>3</td>\n",
       "      <td>4736ef4d2512bb23954118adcb605b5e</td>\n",
       "      <td>H</td>\n",
       "    </tr>\n",
       "  </tbody>\n",
       "</table>\n",
       "</div>"
      ],
      "text/plain": [
       "   node_idx                          paper_id Label\n",
       "0         0  78f43b8b62f040347fec0be44e5f08bd      \n",
       "1         1  a971601a0286d2701aa5cde46e63a9fd     G\n",
       "2         2  a48c92cc8f67a8327adac7ff62d24a53     W\n",
       "3         3  4736ef4d2512bb23954118adcb605b5e     H"
      ]
     },
     "execution_count": 8,
     "metadata": {},
     "output_type": "execute_result"
    }
   ],
   "source": [
    "nid_label_df.reset_index(inplace=True)\n",
    "nid_label_df.rename(columns={'index':'node_idx'}, inplace=True)\n",
    "print(nid_label_df.shape)\n",
    "nid_label_df.head(4)"
   ]
  },
  {
   "cell_type": "code",
   "execution_count": 9,
   "metadata": {},
   "outputs": [
    {
     "data": {
      "text/plain": [
       "(3030932,)"
      ]
     },
     "execution_count": 9,
     "metadata": {},
     "output_type": "execute_result"
    }
   ],
   "source": [
    "# 检查ID是否有重复 \n",
    "ids = nid_label_df.paper_id.drop_duplicates()\n",
    "ids.shape"
   ]
  },
  {
   "cell_type": "code",
   "execution_count": 10,
   "metadata": {},
   "outputs": [],
   "source": [
    "# 保存ID和Label到本地文件\n",
    "nid_label_df.to_csv(os.path.join(base_path, publish_path, './IDandLabels_pre.csv'), index=False)"
   ]
  },
  {
   "cell_type": "code",
   "execution_count": 11,
   "metadata": {},
   "outputs": [
    {
     "data": {
      "text/html": [
       "<div>\n",
       "<style scoped>\n",
       "    .dataframe tbody tr th:only-of-type {\n",
       "        vertical-align: middle;\n",
       "    }\n",
       "\n",
       "    .dataframe tbody tr th {\n",
       "        vertical-align: top;\n",
       "    }\n",
       "\n",
       "    .dataframe thead th {\n",
       "        text-align: right;\n",
       "    }\n",
       "</style>\n",
       "<table border=\"1\" class=\"dataframe\">\n",
       "  <thead>\n",
       "    <tr style=\"text-align: right;\">\n",
       "      <th></th>\n",
       "      <th>node_idx</th>\n",
       "      <th>paper_id</th>\n",
       "      <th>Label</th>\n",
       "    </tr>\n",
       "  </thead>\n",
       "  <tbody>\n",
       "    <tr>\n",
       "      <th>0</th>\n",
       "      <td>0</td>\n",
       "      <td>78f43b8b62f040347fec0be44e5f08bd</td>\n",
       "      <td></td>\n",
       "    </tr>\n",
       "    <tr>\n",
       "      <th>1</th>\n",
       "      <td>1</td>\n",
       "      <td>a971601a0286d2701aa5cde46e63a9fd</td>\n",
       "      <td>G</td>\n",
       "    </tr>\n",
       "    <tr>\n",
       "      <th>2</th>\n",
       "      <td>2</td>\n",
       "      <td>a48c92cc8f67a8327adac7ff62d24a53</td>\n",
       "      <td>W</td>\n",
       "    </tr>\n",
       "    <tr>\n",
       "      <th>3</th>\n",
       "      <td>3</td>\n",
       "      <td>4736ef4d2512bb23954118adcb605b5e</td>\n",
       "      <td>H</td>\n",
       "    </tr>\n",
       "    <tr>\n",
       "      <th>4</th>\n",
       "      <td>4</td>\n",
       "      <td>917de373f8b3cb2dfe245b25ac72a73e</td>\n",
       "      <td></td>\n",
       "    </tr>\n",
       "  </tbody>\n",
       "</table>\n",
       "</div>"
      ],
      "text/plain": [
       "   node_idx                          paper_id Label\n",
       "0         0  78f43b8b62f040347fec0be44e5f08bd      \n",
       "1         1  a971601a0286d2701aa5cde46e63a9fd     G\n",
       "2         2  a48c92cc8f67a8327adac7ff62d24a53     W\n",
       "3         3  4736ef4d2512bb23954118adcb605b5e     H\n",
       "4         4  917de373f8b3cb2dfe245b25ac72a73e      "
      ]
     },
     "execution_count": 11,
     "metadata": {},
     "output_type": "execute_result"
    }
   ],
   "source": [
    "nid_label_df.head()"
   ]
  },
  {
   "cell_type": "code",
   "execution_count": null,
   "metadata": {},
   "outputs": [],
   "source": []
  }
 ],
 "metadata": {
  "kernelspec": {
   "display_name": "Python 3",
   "language": "python",
   "name": "python3"
  },
  "language_info": {
   "codemirror_mode": {
    "name": "ipython",
    "version": 3
   },
   "file_extension": ".py",
   "mimetype": "text/x-python",
   "name": "python",
   "nbconvert_exporter": "python",
   "pygments_lexer": "ipython3",
   "version": "3.8.10"
  }
 },
 "nbformat": 4,
 "nbformat_minor": 4
}
